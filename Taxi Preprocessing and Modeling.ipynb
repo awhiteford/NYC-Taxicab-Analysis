{
 "cells": [
  {
   "cell_type": "code",
   "execution_count": 1,
   "id": "2a947094",
   "metadata": {},
   "outputs": [],
   "source": [
    "import pandas as pd\n",
    "import numpy as np\n",
    "import matplotlib.pyplot as plt\n",
    "import seaborn as sns\n",
    "from sklearn.preprocessing import LabelEncoder\n",
    "from sklearn.model_selection import train_test_split"
   ]
  },
  {
   "cell_type": "code",
   "execution_count": 2,
   "id": "b0ae2619",
   "metadata": {},
   "outputs": [],
   "source": [
    "taxi = pd.read_csv('clean_taxi.csv')"
   ]
  },
  {
   "cell_type": "code",
   "execution_count": 3,
   "id": "4fbbcac9",
   "metadata": {},
   "outputs": [
    {
     "name": "stdout",
     "output_type": "stream",
     "text": [
      "<class 'pandas.core.frame.DataFrame'>\n",
      "RangeIndex: 51173 entries, 0 to 51172\n",
      "Data columns (total 19 columns):\n",
      " #   Column                 Non-Null Count  Dtype  \n",
      "---  ------                 --------------  -----  \n",
      " 0   VendorID               51173 non-null  float64\n",
      " 1   lpep_pickup_datetime   51173 non-null  object \n",
      " 2   lpep_dropoff_datetime  51173 non-null  object \n",
      " 3   store_and_fwd_flag     51173 non-null  object \n",
      " 4   RatecodeID             51173 non-null  float64\n",
      " 5   PULocationID           51173 non-null  int64  \n",
      " 6   DOLocationID           51173 non-null  int64  \n",
      " 7   passenger_count        51173 non-null  float64\n",
      " 8   trip_distance          51173 non-null  float64\n",
      " 9   fare_amount            51173 non-null  float64\n",
      " 10  extra                  51173 non-null  float64\n",
      " 11  mta_tax                51173 non-null  float64\n",
      " 12  tip_amount             51173 non-null  float64\n",
      " 13  tolls_amount           51173 non-null  float64\n",
      " 14  improvement_surcharge  51173 non-null  float64\n",
      " 15  total_amount           51173 non-null  float64\n",
      " 16  payment_type           51173 non-null  float64\n",
      " 17  trip_type              51173 non-null  float64\n",
      " 18  congestion_surcharge   51173 non-null  float64\n",
      "dtypes: float64(14), int64(2), object(3)\n",
      "memory usage: 7.4+ MB\n"
     ]
    }
   ],
   "source": [
    "taxi.info()"
   ]
  },
  {
   "cell_type": "code",
   "execution_count": 4,
   "id": "3dad4c26",
   "metadata": {},
   "outputs": [
    {
     "data": {
      "text/html": [
       "<div>\n",
       "<style scoped>\n",
       "    .dataframe tbody tr th:only-of-type {\n",
       "        vertical-align: middle;\n",
       "    }\n",
       "\n",
       "    .dataframe tbody tr th {\n",
       "        vertical-align: top;\n",
       "    }\n",
       "\n",
       "    .dataframe thead th {\n",
       "        text-align: right;\n",
       "    }\n",
       "</style>\n",
       "<table border=\"1\" class=\"dataframe\">\n",
       "  <thead>\n",
       "    <tr style=\"text-align: right;\">\n",
       "      <th></th>\n",
       "      <th>VendorID</th>\n",
       "      <th>lpep_pickup_datetime</th>\n",
       "      <th>lpep_dropoff_datetime</th>\n",
       "      <th>store_and_fwd_flag</th>\n",
       "      <th>RatecodeID</th>\n",
       "      <th>PULocationID</th>\n",
       "      <th>DOLocationID</th>\n",
       "      <th>passenger_count</th>\n",
       "      <th>trip_distance</th>\n",
       "      <th>fare_amount</th>\n",
       "      <th>extra</th>\n",
       "      <th>mta_tax</th>\n",
       "      <th>tip_amount</th>\n",
       "      <th>tolls_amount</th>\n",
       "      <th>improvement_surcharge</th>\n",
       "      <th>total_amount</th>\n",
       "      <th>payment_type</th>\n",
       "      <th>trip_type</th>\n",
       "      <th>congestion_surcharge</th>\n",
       "    </tr>\n",
       "  </thead>\n",
       "  <tbody>\n",
       "    <tr>\n",
       "      <th>0</th>\n",
       "      <td>1.0</td>\n",
       "      <td>2021-07-01 00:30:52</td>\n",
       "      <td>2021-07-01 00:35:36</td>\n",
       "      <td>N</td>\n",
       "      <td>1.0</td>\n",
       "      <td>74</td>\n",
       "      <td>168</td>\n",
       "      <td>1.0</td>\n",
       "      <td>1.20</td>\n",
       "      <td>6.0</td>\n",
       "      <td>0.50</td>\n",
       "      <td>0.5</td>\n",
       "      <td>0.00</td>\n",
       "      <td>0.0</td>\n",
       "      <td>0.3</td>\n",
       "      <td>7.30</td>\n",
       "      <td>2.0</td>\n",
       "      <td>1.0</td>\n",
       "      <td>0.00</td>\n",
       "    </tr>\n",
       "    <tr>\n",
       "      <th>1</th>\n",
       "      <td>2.0</td>\n",
       "      <td>2021-07-01 00:25:36</td>\n",
       "      <td>2021-07-01 01:01:31</td>\n",
       "      <td>N</td>\n",
       "      <td>1.0</td>\n",
       "      <td>116</td>\n",
       "      <td>265</td>\n",
       "      <td>2.0</td>\n",
       "      <td>13.69</td>\n",
       "      <td>42.0</td>\n",
       "      <td>0.50</td>\n",
       "      <td>0.5</td>\n",
       "      <td>0.00</td>\n",
       "      <td>0.0</td>\n",
       "      <td>0.3</td>\n",
       "      <td>43.30</td>\n",
       "      <td>2.0</td>\n",
       "      <td>1.0</td>\n",
       "      <td>0.00</td>\n",
       "    </tr>\n",
       "    <tr>\n",
       "      <th>2</th>\n",
       "      <td>2.0</td>\n",
       "      <td>2021-07-01 00:05:58</td>\n",
       "      <td>2021-07-01 00:12:00</td>\n",
       "      <td>N</td>\n",
       "      <td>1.0</td>\n",
       "      <td>97</td>\n",
       "      <td>33</td>\n",
       "      <td>1.0</td>\n",
       "      <td>0.95</td>\n",
       "      <td>6.5</td>\n",
       "      <td>0.50</td>\n",
       "      <td>0.5</td>\n",
       "      <td>2.34</td>\n",
       "      <td>0.0</td>\n",
       "      <td>0.3</td>\n",
       "      <td>10.14</td>\n",
       "      <td>1.0</td>\n",
       "      <td>1.0</td>\n",
       "      <td>0.00</td>\n",
       "    </tr>\n",
       "    <tr>\n",
       "      <th>3</th>\n",
       "      <td>2.0</td>\n",
       "      <td>2021-07-01 00:41:40</td>\n",
       "      <td>2021-07-01 00:47:23</td>\n",
       "      <td>N</td>\n",
       "      <td>1.0</td>\n",
       "      <td>74</td>\n",
       "      <td>42</td>\n",
       "      <td>1.0</td>\n",
       "      <td>1.24</td>\n",
       "      <td>6.5</td>\n",
       "      <td>0.50</td>\n",
       "      <td>0.5</td>\n",
       "      <td>0.00</td>\n",
       "      <td>0.0</td>\n",
       "      <td>0.3</td>\n",
       "      <td>7.80</td>\n",
       "      <td>2.0</td>\n",
       "      <td>1.0</td>\n",
       "      <td>0.00</td>\n",
       "    </tr>\n",
       "    <tr>\n",
       "      <th>4</th>\n",
       "      <td>2.0</td>\n",
       "      <td>2021-07-01 00:51:32</td>\n",
       "      <td>2021-07-01 00:58:46</td>\n",
       "      <td>N</td>\n",
       "      <td>1.0</td>\n",
       "      <td>42</td>\n",
       "      <td>244</td>\n",
       "      <td>1.0</td>\n",
       "      <td>1.10</td>\n",
       "      <td>7.0</td>\n",
       "      <td>0.50</td>\n",
       "      <td>0.5</td>\n",
       "      <td>0.00</td>\n",
       "      <td>0.0</td>\n",
       "      <td>0.3</td>\n",
       "      <td>8.30</td>\n",
       "      <td>2.0</td>\n",
       "      <td>1.0</td>\n",
       "      <td>0.00</td>\n",
       "    </tr>\n",
       "    <tr>\n",
       "      <th>5</th>\n",
       "      <td>1.0</td>\n",
       "      <td>2021-07-01 00:05:00</td>\n",
       "      <td>2021-07-01 00:11:50</td>\n",
       "      <td>N</td>\n",
       "      <td>1.0</td>\n",
       "      <td>24</td>\n",
       "      <td>239</td>\n",
       "      <td>1.0</td>\n",
       "      <td>1.90</td>\n",
       "      <td>8.0</td>\n",
       "      <td>3.25</td>\n",
       "      <td>0.5</td>\n",
       "      <td>3.00</td>\n",
       "      <td>0.0</td>\n",
       "      <td>0.3</td>\n",
       "      <td>15.05</td>\n",
       "      <td>1.0</td>\n",
       "      <td>1.0</td>\n",
       "      <td>2.75</td>\n",
       "    </tr>\n",
       "    <tr>\n",
       "      <th>6</th>\n",
       "      <td>2.0</td>\n",
       "      <td>2021-07-01 00:57:14</td>\n",
       "      <td>2021-07-01 01:27:43</td>\n",
       "      <td>N</td>\n",
       "      <td>1.0</td>\n",
       "      <td>75</td>\n",
       "      <td>243</td>\n",
       "      <td>1.0</td>\n",
       "      <td>0.00</td>\n",
       "      <td>17.5</td>\n",
       "      <td>0.50</td>\n",
       "      <td>0.5</td>\n",
       "      <td>0.00</td>\n",
       "      <td>0.0</td>\n",
       "      <td>0.3</td>\n",
       "      <td>18.80</td>\n",
       "      <td>2.0</td>\n",
       "      <td>1.0</td>\n",
       "      <td>0.00</td>\n",
       "    </tr>\n",
       "    <tr>\n",
       "      <th>7</th>\n",
       "      <td>2.0</td>\n",
       "      <td>2021-07-01 00:27:36</td>\n",
       "      <td>2021-07-01 00:32:35</td>\n",
       "      <td>N</td>\n",
       "      <td>1.0</td>\n",
       "      <td>82</td>\n",
       "      <td>82</td>\n",
       "      <td>1.0</td>\n",
       "      <td>0.66</td>\n",
       "      <td>5.0</td>\n",
       "      <td>0.50</td>\n",
       "      <td>0.5</td>\n",
       "      <td>0.00</td>\n",
       "      <td>0.0</td>\n",
       "      <td>0.3</td>\n",
       "      <td>6.30</td>\n",
       "      <td>2.0</td>\n",
       "      <td>1.0</td>\n",
       "      <td>0.00</td>\n",
       "    </tr>\n",
       "    <tr>\n",
       "      <th>8</th>\n",
       "      <td>2.0</td>\n",
       "      <td>2021-07-01 00:29:09</td>\n",
       "      <td>2021-07-01 00:34:18</td>\n",
       "      <td>N</td>\n",
       "      <td>1.0</td>\n",
       "      <td>74</td>\n",
       "      <td>42</td>\n",
       "      <td>1.0</td>\n",
       "      <td>1.72</td>\n",
       "      <td>7.0</td>\n",
       "      <td>0.50</td>\n",
       "      <td>0.5</td>\n",
       "      <td>2.08</td>\n",
       "      <td>0.0</td>\n",
       "      <td>0.3</td>\n",
       "      <td>10.38</td>\n",
       "      <td>1.0</td>\n",
       "      <td>1.0</td>\n",
       "      <td>0.00</td>\n",
       "    </tr>\n",
       "    <tr>\n",
       "      <th>9</th>\n",
       "      <td>2.0</td>\n",
       "      <td>2021-07-01 00:41:33</td>\n",
       "      <td>2021-07-01 00:49:24</td>\n",
       "      <td>N</td>\n",
       "      <td>1.0</td>\n",
       "      <td>41</td>\n",
       "      <td>42</td>\n",
       "      <td>1.0</td>\n",
       "      <td>1.37</td>\n",
       "      <td>7.5</td>\n",
       "      <td>0.50</td>\n",
       "      <td>0.5</td>\n",
       "      <td>0.00</td>\n",
       "      <td>0.0</td>\n",
       "      <td>0.3</td>\n",
       "      <td>8.80</td>\n",
       "      <td>2.0</td>\n",
       "      <td>1.0</td>\n",
       "      <td>0.00</td>\n",
       "    </tr>\n",
       "  </tbody>\n",
       "</table>\n",
       "</div>"
      ],
      "text/plain": [
       "   VendorID lpep_pickup_datetime lpep_dropoff_datetime store_and_fwd_flag  \\\n",
       "0       1.0  2021-07-01 00:30:52   2021-07-01 00:35:36                  N   \n",
       "1       2.0  2021-07-01 00:25:36   2021-07-01 01:01:31                  N   \n",
       "2       2.0  2021-07-01 00:05:58   2021-07-01 00:12:00                  N   \n",
       "3       2.0  2021-07-01 00:41:40   2021-07-01 00:47:23                  N   \n",
       "4       2.0  2021-07-01 00:51:32   2021-07-01 00:58:46                  N   \n",
       "5       1.0  2021-07-01 00:05:00   2021-07-01 00:11:50                  N   \n",
       "6       2.0  2021-07-01 00:57:14   2021-07-01 01:27:43                  N   \n",
       "7       2.0  2021-07-01 00:27:36   2021-07-01 00:32:35                  N   \n",
       "8       2.0  2021-07-01 00:29:09   2021-07-01 00:34:18                  N   \n",
       "9       2.0  2021-07-01 00:41:33   2021-07-01 00:49:24                  N   \n",
       "\n",
       "   RatecodeID  PULocationID  DOLocationID  passenger_count  trip_distance  \\\n",
       "0         1.0            74           168              1.0           1.20   \n",
       "1         1.0           116           265              2.0          13.69   \n",
       "2         1.0            97            33              1.0           0.95   \n",
       "3         1.0            74            42              1.0           1.24   \n",
       "4         1.0            42           244              1.0           1.10   \n",
       "5         1.0            24           239              1.0           1.90   \n",
       "6         1.0            75           243              1.0           0.00   \n",
       "7         1.0            82            82              1.0           0.66   \n",
       "8         1.0            74            42              1.0           1.72   \n",
       "9         1.0            41            42              1.0           1.37   \n",
       "\n",
       "   fare_amount  extra  mta_tax  tip_amount  tolls_amount  \\\n",
       "0          6.0   0.50      0.5        0.00           0.0   \n",
       "1         42.0   0.50      0.5        0.00           0.0   \n",
       "2          6.5   0.50      0.5        2.34           0.0   \n",
       "3          6.5   0.50      0.5        0.00           0.0   \n",
       "4          7.0   0.50      0.5        0.00           0.0   \n",
       "5          8.0   3.25      0.5        3.00           0.0   \n",
       "6         17.5   0.50      0.5        0.00           0.0   \n",
       "7          5.0   0.50      0.5        0.00           0.0   \n",
       "8          7.0   0.50      0.5        2.08           0.0   \n",
       "9          7.5   0.50      0.5        0.00           0.0   \n",
       "\n",
       "   improvement_surcharge  total_amount  payment_type  trip_type  \\\n",
       "0                    0.3          7.30           2.0        1.0   \n",
       "1                    0.3         43.30           2.0        1.0   \n",
       "2                    0.3         10.14           1.0        1.0   \n",
       "3                    0.3          7.80           2.0        1.0   \n",
       "4                    0.3          8.30           2.0        1.0   \n",
       "5                    0.3         15.05           1.0        1.0   \n",
       "6                    0.3         18.80           2.0        1.0   \n",
       "7                    0.3          6.30           2.0        1.0   \n",
       "8                    0.3         10.38           1.0        1.0   \n",
       "9                    0.3          8.80           2.0        1.0   \n",
       "\n",
       "   congestion_surcharge  \n",
       "0                  0.00  \n",
       "1                  0.00  \n",
       "2                  0.00  \n",
       "3                  0.00  \n",
       "4                  0.00  \n",
       "5                  2.75  \n",
       "6                  0.00  \n",
       "7                  0.00  \n",
       "8                  0.00  \n",
       "9                  0.00  "
      ]
     },
     "execution_count": 4,
     "metadata": {},
     "output_type": "execute_result"
    }
   ],
   "source": [
    "taxi.head(10)"
   ]
  },
  {
   "cell_type": "code",
   "execution_count": 5,
   "id": "8aebabe7",
   "metadata": {
    "scrolled": true
   },
   "outputs": [
    {
     "data": {
      "text/html": [
       "<div>\n",
       "<style scoped>\n",
       "    .dataframe tbody tr th:only-of-type {\n",
       "        vertical-align: middle;\n",
       "    }\n",
       "\n",
       "    .dataframe tbody tr th {\n",
       "        vertical-align: top;\n",
       "    }\n",
       "\n",
       "    .dataframe thead th {\n",
       "        text-align: right;\n",
       "    }\n",
       "</style>\n",
       "<table border=\"1\" class=\"dataframe\">\n",
       "  <thead>\n",
       "    <tr style=\"text-align: right;\">\n",
       "      <th></th>\n",
       "      <th>VendorID</th>\n",
       "      <th>RatecodeID</th>\n",
       "      <th>PULocationID</th>\n",
       "      <th>DOLocationID</th>\n",
       "      <th>passenger_count</th>\n",
       "      <th>trip_distance</th>\n",
       "      <th>fare_amount</th>\n",
       "      <th>extra</th>\n",
       "      <th>mta_tax</th>\n",
       "      <th>tip_amount</th>\n",
       "      <th>tolls_amount</th>\n",
       "      <th>improvement_surcharge</th>\n",
       "      <th>total_amount</th>\n",
       "      <th>payment_type</th>\n",
       "      <th>trip_type</th>\n",
       "      <th>congestion_surcharge</th>\n",
       "    </tr>\n",
       "  </thead>\n",
       "  <tbody>\n",
       "    <tr>\n",
       "      <th>count</th>\n",
       "      <td>51173.000000</td>\n",
       "      <td>51173.000000</td>\n",
       "      <td>51173.000000</td>\n",
       "      <td>51173.000000</td>\n",
       "      <td>51173.000000</td>\n",
       "      <td>51173.000000</td>\n",
       "      <td>51173.000000</td>\n",
       "      <td>51173.000000</td>\n",
       "      <td>51173.000000</td>\n",
       "      <td>51173.000000</td>\n",
       "      <td>51173.000000</td>\n",
       "      <td>51173.000000</td>\n",
       "      <td>51173.000000</td>\n",
       "      <td>51173.000000</td>\n",
       "      <td>51173.000000</td>\n",
       "      <td>51173.000000</td>\n",
       "    </tr>\n",
       "    <tr>\n",
       "      <th>mean</th>\n",
       "      <td>1.851113</td>\n",
       "      <td>1.159244</td>\n",
       "      <td>98.786528</td>\n",
       "      <td>135.229613</td>\n",
       "      <td>1.307858</td>\n",
       "      <td>3.494247</td>\n",
       "      <td>15.034696</td>\n",
       "      <td>0.360429</td>\n",
       "      <td>0.480243</td>\n",
       "      <td>1.379782</td>\n",
       "      <td>0.342628</td>\n",
       "      <td>0.297966</td>\n",
       "      <td>18.454531</td>\n",
       "      <td>1.421726</td>\n",
       "      <td>1.034393</td>\n",
       "      <td>0.643137</td>\n",
       "    </tr>\n",
       "    <tr>\n",
       "      <th>std</th>\n",
       "      <td>0.355981</td>\n",
       "      <td>0.773260</td>\n",
       "      <td>64.719493</td>\n",
       "      <td>77.737705</td>\n",
       "      <td>0.984362</td>\n",
       "      <td>4.620208</td>\n",
       "      <td>14.545213</td>\n",
       "      <td>0.624490</td>\n",
       "      <td>0.097407</td>\n",
       "      <td>2.604697</td>\n",
       "      <td>1.514054</td>\n",
       "      <td>0.024620</td>\n",
       "      <td>16.201376</td>\n",
       "      <td>0.511146</td>\n",
       "      <td>0.182239</td>\n",
       "      <td>1.164041</td>\n",
       "    </tr>\n",
       "    <tr>\n",
       "      <th>min</th>\n",
       "      <td>1.000000</td>\n",
       "      <td>1.000000</td>\n",
       "      <td>3.000000</td>\n",
       "      <td>1.000000</td>\n",
       "      <td>0.000000</td>\n",
       "      <td>0.000000</td>\n",
       "      <td>0.000000</td>\n",
       "      <td>0.000000</td>\n",
       "      <td>0.000000</td>\n",
       "      <td>0.000000</td>\n",
       "      <td>0.000000</td>\n",
       "      <td>0.000000</td>\n",
       "      <td>0.000000</td>\n",
       "      <td>1.000000</td>\n",
       "      <td>1.000000</td>\n",
       "      <td>0.000000</td>\n",
       "    </tr>\n",
       "    <tr>\n",
       "      <th>25%</th>\n",
       "      <td>2.000000</td>\n",
       "      <td>1.000000</td>\n",
       "      <td>52.000000</td>\n",
       "      <td>74.000000</td>\n",
       "      <td>1.000000</td>\n",
       "      <td>1.100000</td>\n",
       "      <td>7.000000</td>\n",
       "      <td>0.000000</td>\n",
       "      <td>0.500000</td>\n",
       "      <td>0.000000</td>\n",
       "      <td>0.000000</td>\n",
       "      <td>0.300000</td>\n",
       "      <td>9.300000</td>\n",
       "      <td>1.000000</td>\n",
       "      <td>1.000000</td>\n",
       "      <td>0.000000</td>\n",
       "    </tr>\n",
       "    <tr>\n",
       "      <th>50%</th>\n",
       "      <td>2.000000</td>\n",
       "      <td>1.000000</td>\n",
       "      <td>75.000000</td>\n",
       "      <td>135.000000</td>\n",
       "      <td>1.000000</td>\n",
       "      <td>1.990000</td>\n",
       "      <td>10.500000</td>\n",
       "      <td>0.000000</td>\n",
       "      <td>0.500000</td>\n",
       "      <td>0.000000</td>\n",
       "      <td>0.000000</td>\n",
       "      <td>0.300000</td>\n",
       "      <td>13.560000</td>\n",
       "      <td>1.000000</td>\n",
       "      <td>1.000000</td>\n",
       "      <td>0.000000</td>\n",
       "    </tr>\n",
       "    <tr>\n",
       "      <th>75%</th>\n",
       "      <td>2.000000</td>\n",
       "      <td>1.000000</td>\n",
       "      <td>129.000000</td>\n",
       "      <td>213.000000</td>\n",
       "      <td>1.000000</td>\n",
       "      <td>3.860000</td>\n",
       "      <td>17.000000</td>\n",
       "      <td>0.500000</td>\n",
       "      <td>0.500000</td>\n",
       "      <td>2.160000</td>\n",
       "      <td>0.000000</td>\n",
       "      <td>0.300000</td>\n",
       "      <td>21.300000</td>\n",
       "      <td>2.000000</td>\n",
       "      <td>1.000000</td>\n",
       "      <td>0.000000</td>\n",
       "    </tr>\n",
       "    <tr>\n",
       "      <th>max</th>\n",
       "      <td>2.000000</td>\n",
       "      <td>5.000000</td>\n",
       "      <td>265.000000</td>\n",
       "      <td>265.000000</td>\n",
       "      <td>32.000000</td>\n",
       "      <td>109.870000</td>\n",
       "      <td>480.000000</td>\n",
       "      <td>4.500000</td>\n",
       "      <td>0.500000</td>\n",
       "      <td>87.710000</td>\n",
       "      <td>30.050000</td>\n",
       "      <td>0.300000</td>\n",
       "      <td>480.310000</td>\n",
       "      <td>5.000000</td>\n",
       "      <td>2.000000</td>\n",
       "      <td>2.750000</td>\n",
       "    </tr>\n",
       "  </tbody>\n",
       "</table>\n",
       "</div>"
      ],
      "text/plain": [
       "           VendorID    RatecodeID  PULocationID  DOLocationID  \\\n",
       "count  51173.000000  51173.000000  51173.000000  51173.000000   \n",
       "mean       1.851113      1.159244     98.786528    135.229613   \n",
       "std        0.355981      0.773260     64.719493     77.737705   \n",
       "min        1.000000      1.000000      3.000000      1.000000   \n",
       "25%        2.000000      1.000000     52.000000     74.000000   \n",
       "50%        2.000000      1.000000     75.000000    135.000000   \n",
       "75%        2.000000      1.000000    129.000000    213.000000   \n",
       "max        2.000000      5.000000    265.000000    265.000000   \n",
       "\n",
       "       passenger_count  trip_distance   fare_amount         extra  \\\n",
       "count     51173.000000   51173.000000  51173.000000  51173.000000   \n",
       "mean          1.307858       3.494247     15.034696      0.360429   \n",
       "std           0.984362       4.620208     14.545213      0.624490   \n",
       "min           0.000000       0.000000      0.000000      0.000000   \n",
       "25%           1.000000       1.100000      7.000000      0.000000   \n",
       "50%           1.000000       1.990000     10.500000      0.000000   \n",
       "75%           1.000000       3.860000     17.000000      0.500000   \n",
       "max          32.000000     109.870000    480.000000      4.500000   \n",
       "\n",
       "            mta_tax    tip_amount  tolls_amount  improvement_surcharge  \\\n",
       "count  51173.000000  51173.000000  51173.000000           51173.000000   \n",
       "mean       0.480243      1.379782      0.342628               0.297966   \n",
       "std        0.097407      2.604697      1.514054               0.024620   \n",
       "min        0.000000      0.000000      0.000000               0.000000   \n",
       "25%        0.500000      0.000000      0.000000               0.300000   \n",
       "50%        0.500000      0.000000      0.000000               0.300000   \n",
       "75%        0.500000      2.160000      0.000000               0.300000   \n",
       "max        0.500000     87.710000     30.050000               0.300000   \n",
       "\n",
       "       total_amount  payment_type     trip_type  congestion_surcharge  \n",
       "count  51173.000000  51173.000000  51173.000000          51173.000000  \n",
       "mean      18.454531      1.421726      1.034393              0.643137  \n",
       "std       16.201376      0.511146      0.182239              1.164041  \n",
       "min        0.000000      1.000000      1.000000              0.000000  \n",
       "25%        9.300000      1.000000      1.000000              0.000000  \n",
       "50%       13.560000      1.000000      1.000000              0.000000  \n",
       "75%       21.300000      2.000000      1.000000              0.000000  \n",
       "max      480.310000      5.000000      2.000000              2.750000  "
      ]
     },
     "execution_count": 5,
     "metadata": {},
     "output_type": "execute_result"
    }
   ],
   "source": [
    "taxi.describe()"
   ]
  },
  {
   "cell_type": "code",
   "execution_count": 6,
   "id": "6369d318",
   "metadata": {},
   "outputs": [],
   "source": [
    "taxi = taxi.drop(['VendorID','trip_type'], axis=1)"
   ]
  },
  {
   "cell_type": "code",
   "execution_count": 7,
   "id": "65080993",
   "metadata": {},
   "outputs": [
    {
     "data": {
      "text/plain": [
       "249"
      ]
     },
     "execution_count": 7,
     "metadata": {},
     "output_type": "execute_result"
    }
   ],
   "source": [
    "len(taxi[taxi['total_amount'] <= 0])"
   ]
  },
  {
   "cell_type": "code",
   "execution_count": 8,
   "id": "a96517c5",
   "metadata": {},
   "outputs": [],
   "source": [
    "taxi = taxi[taxi['total_amount'] > 0]"
   ]
  },
  {
   "cell_type": "code",
   "execution_count": 9,
   "id": "61deee98",
   "metadata": {},
   "outputs": [
    {
     "data": {
      "text/plain": [
       "50"
      ]
     },
     "execution_count": 9,
     "metadata": {},
     "output_type": "execute_result"
    }
   ],
   "source": [
    "len(taxi[taxi['fare_amount'] <= 0])"
   ]
  },
  {
   "cell_type": "code",
   "execution_count": 10,
   "id": "66c890b4",
   "metadata": {
    "scrolled": true
   },
   "outputs": [
    {
     "data": {
      "text/plain": [
       "2687"
      ]
     },
     "execution_count": 10,
     "metadata": {},
     "output_type": "execute_result"
    }
   ],
   "source": [
    "len(taxi[taxi['trip_distance'] <= 0])"
   ]
  },
  {
   "cell_type": "markdown",
   "id": "1f17c1ed",
   "metadata": {},
   "source": [
    "Trip distance cannot be zero."
   ]
  },
  {
   "cell_type": "code",
   "execution_count": 11,
   "id": "23f40eac",
   "metadata": {},
   "outputs": [
    {
     "data": {
      "text/plain": [
       "RatecodeID\n",
       "1.0     2.000\n",
       "2.0    17.295\n",
       "3.0     0.110\n",
       "4.0    11.900\n",
       "5.0     1.250\n",
       "Name: trip_distance, dtype: float64"
      ]
     },
     "execution_count": 11,
     "metadata": {},
     "output_type": "execute_result"
    }
   ],
   "source": [
    "taxi.groupby('RatecodeID').median()['trip_distance']"
   ]
  },
  {
   "cell_type": "code",
   "execution_count": 12,
   "id": "8e5b9f46",
   "metadata": {
    "scrolled": false
   },
   "outputs": [
    {
     "data": {
      "text/plain": [
       "<AxesSubplot:xlabel='RatecodeID', ylabel='trip_distance'>"
      ]
     },
     "execution_count": 12,
     "metadata": {},
     "output_type": "execute_result"
    },
    {
     "data": {
      "image/png": "[encoded data removed]",
      "text/plain": [
       "<Figure size 432x288 with 1 Axes>"
      ]
     },
     "metadata": {
      "needs_background": "light"
     },
     "output_type": "display_data"
    }
   ],
   "source": [
    "sns.barplot(x='RatecodeID', y='trip_distance', data=taxi[['RatecodeID','trip_distance']])"
   ]
  },
  {
   "cell_type": "code",
   "execution_count": 13,
   "id": "c0c24137",
   "metadata": {},
   "outputs": [],
   "source": [
    "taxi['trip_distance'] = taxi.groupby(['RatecodeID'])['trip_distance'].apply(lambda x: x.replace(0,x.mean()))"
   ]
  },
  {
   "cell_type": "code",
   "execution_count": 14,
   "id": "a3e9db0c",
   "metadata": {},
   "outputs": [
    {
     "data": {
      "text/plain": [
       "0"
      ]
     },
     "execution_count": 14,
     "metadata": {},
     "output_type": "execute_result"
    }
   ],
   "source": [
    "len(taxi[taxi['trip_distance'] <= 0])"
   ]
  },
  {
   "cell_type": "code",
   "execution_count": 15,
   "id": "fe6267a9",
   "metadata": {},
   "outputs": [
    {
     "data": {
      "text/plain": [
       "RatecodeID\n",
       "1.0     2.200000\n",
       "2.0    17.295000\n",
       "3.0     7.955000\n",
       "4.0    11.900000\n",
       "5.0     3.359413\n",
       "Name: trip_distance, dtype: float64"
      ]
     },
     "execution_count": 15,
     "metadata": {},
     "output_type": "execute_result"
    }
   ],
   "source": [
    "taxi.groupby('RatecodeID').median()['trip_distance']"
   ]
  },
  {
   "cell_type": "code",
   "execution_count": 16,
   "id": "e483e093",
   "metadata": {
    "scrolled": true
   },
   "outputs": [
    {
     "name": "stdout",
     "output_type": "stream",
     "text": [
      "<class 'pandas.core.frame.DataFrame'>\n",
      "Int64Index: 50924 entries, 0 to 51172\n",
      "Data columns (total 17 columns):\n",
      " #   Column                 Non-Null Count  Dtype  \n",
      "---  ------                 --------------  -----  \n",
      " 0   lpep_pickup_datetime   50924 non-null  object \n",
      " 1   lpep_dropoff_datetime  50924 non-null  object \n",
      " 2   store_and_fwd_flag     50924 non-null  object \n",
      " 3   RatecodeID             50924 non-null  float64\n",
      " 4   PULocationID           50924 non-null  int64  \n",
      " 5   DOLocationID           50924 non-null  int64  \n",
      " 6   passenger_count        50924 non-null  float64\n",
      " 7   trip_distance          50924 non-null  float64\n",
      " 8   fare_amount            50924 non-null  float64\n",
      " 9   extra                  50924 non-null  float64\n",
      " 10  mta_tax                50924 non-null  float64\n",
      " 11  tip_amount             50924 non-null  float64\n",
      " 12  tolls_amount           50924 non-null  float64\n",
      " 13  improvement_surcharge  50924 non-null  float64\n",
      " 14  total_amount           50924 non-null  float64\n",
      " 15  payment_type           50924 non-null  float64\n",
      " 16  congestion_surcharge   50924 non-null  float64\n",
      "dtypes: float64(12), int64(2), object(3)\n",
      "memory usage: 7.0+ MB\n"
     ]
    }
   ],
   "source": [
    "taxi.info()"
   ]
  },
  {
   "cell_type": "code",
   "execution_count": 17,
   "id": "0944fda8",
   "metadata": {},
   "outputs": [
    {
     "data": {
      "text/plain": [
       "<AxesSubplot:xlabel='RatecodeID', ylabel='trip_distance'>"
      ]
     },
     "execution_count": 17,
     "metadata": {},
     "output_type": "execute_result"
    },
    {
     "data": {
      "image/png": "[encoded data removed]",
      "text/plain": [
       "<Figure size 432x288 with 1 Axes>"
      ]
     },
     "metadata": {
      "needs_background": "light"
     },
     "output_type": "display_data"
    }
   ],
   "source": [
    "sns.barplot(x='RatecodeID', y='trip_distance', data=taxi[['RatecodeID','trip_distance']])"
   ]
  },
  {
   "cell_type": "code",
   "execution_count": 18,
   "id": "6ebde82a",
   "metadata": {},
   "outputs": [],
   "source": [
    "for i in taxi.columns[[0, 1]]:\n",
    "    taxi[i] = pd.to_datetime(taxi[i])"
   ]
  },
  {
   "cell_type": "code",
   "execution_count": 19,
   "id": "31591386",
   "metadata": {
    "scrolled": true
   },
   "outputs": [
    {
     "data": {
      "text/html": [
       "<div>\n",
       "<style scoped>\n",
       "    .dataframe tbody tr th:only-of-type {\n",
       "        vertical-align: middle;\n",
       "    }\n",
       "\n",
       "    .dataframe tbody tr th {\n",
       "        vertical-align: top;\n",
       "    }\n",
       "\n",
       "    .dataframe thead th {\n",
       "        text-align: right;\n",
       "    }\n",
       "</style>\n",
       "<table border=\"1\" class=\"dataframe\">\n",
       "  <thead>\n",
       "    <tr style=\"text-align: right;\">\n",
       "      <th></th>\n",
       "      <th>lpep_pickup_datetime</th>\n",
       "      <th>lpep_dropoff_datetime</th>\n",
       "      <th>store_and_fwd_flag</th>\n",
       "      <th>RatecodeID</th>\n",
       "      <th>PULocationID</th>\n",
       "      <th>DOLocationID</th>\n",
       "      <th>passenger_count</th>\n",
       "      <th>trip_distance</th>\n",
       "      <th>fare_amount</th>\n",
       "      <th>extra</th>\n",
       "      <th>mta_tax</th>\n",
       "      <th>tip_amount</th>\n",
       "      <th>tolls_amount</th>\n",
       "      <th>improvement_surcharge</th>\n",
       "      <th>total_amount</th>\n",
       "      <th>payment_type</th>\n",
       "      <th>congestion_surcharge</th>\n",
       "    </tr>\n",
       "  </thead>\n",
       "  <tbody>\n",
       "    <tr>\n",
       "      <th>0</th>\n",
       "      <td>2021-07-01 00:30:52</td>\n",
       "      <td>2021-07-01 00:35:36</td>\n",
       "      <td>N</td>\n",
       "      <td>1.0</td>\n",
       "      <td>74</td>\n",
       "      <td>168</td>\n",
       "      <td>1.0</td>\n",
       "      <td>1.200000</td>\n",
       "      <td>6.0</td>\n",
       "      <td>0.50</td>\n",
       "      <td>0.5</td>\n",
       "      <td>0.00</td>\n",
       "      <td>0.0</td>\n",
       "      <td>0.3</td>\n",
       "      <td>7.30</td>\n",
       "      <td>2.0</td>\n",
       "      <td>0.00</td>\n",
       "    </tr>\n",
       "    <tr>\n",
       "      <th>1</th>\n",
       "      <td>2021-07-01 00:25:36</td>\n",
       "      <td>2021-07-01 01:01:31</td>\n",
       "      <td>N</td>\n",
       "      <td>1.0</td>\n",
       "      <td>116</td>\n",
       "      <td>265</td>\n",
       "      <td>2.0</td>\n",
       "      <td>13.690000</td>\n",
       "      <td>42.0</td>\n",
       "      <td>0.50</td>\n",
       "      <td>0.5</td>\n",
       "      <td>0.00</td>\n",
       "      <td>0.0</td>\n",
       "      <td>0.3</td>\n",
       "      <td>43.30</td>\n",
       "      <td>2.0</td>\n",
       "      <td>0.00</td>\n",
       "    </tr>\n",
       "    <tr>\n",
       "      <th>2</th>\n",
       "      <td>2021-07-01 00:05:58</td>\n",
       "      <td>2021-07-01 00:12:00</td>\n",
       "      <td>N</td>\n",
       "      <td>1.0</td>\n",
       "      <td>97</td>\n",
       "      <td>33</td>\n",
       "      <td>1.0</td>\n",
       "      <td>0.950000</td>\n",
       "      <td>6.5</td>\n",
       "      <td>0.50</td>\n",
       "      <td>0.5</td>\n",
       "      <td>2.34</td>\n",
       "      <td>0.0</td>\n",
       "      <td>0.3</td>\n",
       "      <td>10.14</td>\n",
       "      <td>1.0</td>\n",
       "      <td>0.00</td>\n",
       "    </tr>\n",
       "    <tr>\n",
       "      <th>3</th>\n",
       "      <td>2021-07-01 00:41:40</td>\n",
       "      <td>2021-07-01 00:47:23</td>\n",
       "      <td>N</td>\n",
       "      <td>1.0</td>\n",
       "      <td>74</td>\n",
       "      <td>42</td>\n",
       "      <td>1.0</td>\n",
       "      <td>1.240000</td>\n",
       "      <td>6.5</td>\n",
       "      <td>0.50</td>\n",
       "      <td>0.5</td>\n",
       "      <td>0.00</td>\n",
       "      <td>0.0</td>\n",
       "      <td>0.3</td>\n",
       "      <td>7.80</td>\n",
       "      <td>2.0</td>\n",
       "      <td>0.00</td>\n",
       "    </tr>\n",
       "    <tr>\n",
       "      <th>4</th>\n",
       "      <td>2021-07-01 00:51:32</td>\n",
       "      <td>2021-07-01 00:58:46</td>\n",
       "      <td>N</td>\n",
       "      <td>1.0</td>\n",
       "      <td>42</td>\n",
       "      <td>244</td>\n",
       "      <td>1.0</td>\n",
       "      <td>1.100000</td>\n",
       "      <td>7.0</td>\n",
       "      <td>0.50</td>\n",
       "      <td>0.5</td>\n",
       "      <td>0.00</td>\n",
       "      <td>0.0</td>\n",
       "      <td>0.3</td>\n",
       "      <td>8.30</td>\n",
       "      <td>2.0</td>\n",
       "      <td>0.00</td>\n",
       "    </tr>\n",
       "    <tr>\n",
       "      <th>5</th>\n",
       "      <td>2021-07-01 00:05:00</td>\n",
       "      <td>2021-07-01 00:11:50</td>\n",
       "      <td>N</td>\n",
       "      <td>1.0</td>\n",
       "      <td>24</td>\n",
       "      <td>239</td>\n",
       "      <td>1.0</td>\n",
       "      <td>1.900000</td>\n",
       "      <td>8.0</td>\n",
       "      <td>3.25</td>\n",
       "      <td>0.5</td>\n",
       "      <td>3.00</td>\n",
       "      <td>0.0</td>\n",
       "      <td>0.3</td>\n",
       "      <td>15.05</td>\n",
       "      <td>1.0</td>\n",
       "      <td>2.75</td>\n",
       "    </tr>\n",
       "    <tr>\n",
       "      <th>6</th>\n",
       "      <td>2021-07-01 00:57:14</td>\n",
       "      <td>2021-07-01 01:27:43</td>\n",
       "      <td>N</td>\n",
       "      <td>1.0</td>\n",
       "      <td>75</td>\n",
       "      <td>243</td>\n",
       "      <td>1.0</td>\n",
       "      <td>3.443321</td>\n",
       "      <td>17.5</td>\n",
       "      <td>0.50</td>\n",
       "      <td>0.5</td>\n",
       "      <td>0.00</td>\n",
       "      <td>0.0</td>\n",
       "      <td>0.3</td>\n",
       "      <td>18.80</td>\n",
       "      <td>2.0</td>\n",
       "      <td>0.00</td>\n",
       "    </tr>\n",
       "    <tr>\n",
       "      <th>7</th>\n",
       "      <td>2021-07-01 00:27:36</td>\n",
       "      <td>2021-07-01 00:32:35</td>\n",
       "      <td>N</td>\n",
       "      <td>1.0</td>\n",
       "      <td>82</td>\n",
       "      <td>82</td>\n",
       "      <td>1.0</td>\n",
       "      <td>0.660000</td>\n",
       "      <td>5.0</td>\n",
       "      <td>0.50</td>\n",
       "      <td>0.5</td>\n",
       "      <td>0.00</td>\n",
       "      <td>0.0</td>\n",
       "      <td>0.3</td>\n",
       "      <td>6.30</td>\n",
       "      <td>2.0</td>\n",
       "      <td>0.00</td>\n",
       "    </tr>\n",
       "    <tr>\n",
       "      <th>8</th>\n",
       "      <td>2021-07-01 00:29:09</td>\n",
       "      <td>2021-07-01 00:34:18</td>\n",
       "      <td>N</td>\n",
       "      <td>1.0</td>\n",
       "      <td>74</td>\n",
       "      <td>42</td>\n",
       "      <td>1.0</td>\n",
       "      <td>1.720000</td>\n",
       "      <td>7.0</td>\n",
       "      <td>0.50</td>\n",
       "      <td>0.5</td>\n",
       "      <td>2.08</td>\n",
       "      <td>0.0</td>\n",
       "      <td>0.3</td>\n",
       "      <td>10.38</td>\n",
       "      <td>1.0</td>\n",
       "      <td>0.00</td>\n",
       "    </tr>\n",
       "    <tr>\n",
       "      <th>9</th>\n",
       "      <td>2021-07-01 00:41:33</td>\n",
       "      <td>2021-07-01 00:49:24</td>\n",
       "      <td>N</td>\n",
       "      <td>1.0</td>\n",
       "      <td>41</td>\n",
       "      <td>42</td>\n",
       "      <td>1.0</td>\n",
       "      <td>1.370000</td>\n",
       "      <td>7.5</td>\n",
       "      <td>0.50</td>\n",
       "      <td>0.5</td>\n",
       "      <td>0.00</td>\n",
       "      <td>0.0</td>\n",
       "      <td>0.3</td>\n",
       "      <td>8.80</td>\n",
       "      <td>2.0</td>\n",
       "      <td>0.00</td>\n",
       "    </tr>\n",
       "  </tbody>\n",
       "</table>\n",
       "</div>"
      ],
      "text/plain": [
       "  lpep_pickup_datetime lpep_dropoff_datetime store_and_fwd_flag  RatecodeID  \\\n",
       "0  2021-07-01 00:30:52   2021-07-01 00:35:36                  N         1.0   \n",
       "1  2021-07-01 00:25:36   2021-07-01 01:01:31                  N         1.0   \n",
       "2  2021-07-01 00:05:58   2021-07-01 00:12:00                  N         1.0   \n",
       "3  2021-07-01 00:41:40   2021-07-01 00:47:23                  N         1.0   \n",
       "4  2021-07-01 00:51:32   2021-07-01 00:58:46                  N         1.0   \n",
       "5  2021-07-01 00:05:00   2021-07-01 00:11:50                  N         1.0   \n",
       "6  2021-07-01 00:57:14   2021-07-01 01:27:43                  N         1.0   \n",
       "7  2021-07-01 00:27:36   2021-07-01 00:32:35                  N         1.0   \n",
       "8  2021-07-01 00:29:09   2021-07-01 00:34:18                  N         1.0   \n",
       "9  2021-07-01 00:41:33   2021-07-01 00:49:24                  N         1.0   \n",
       "\n",
       "   PULocationID  DOLocationID  passenger_count  trip_distance  fare_amount  \\\n",
       "0            74           168              1.0       1.200000          6.0   \n",
       "1           116           265              2.0      13.690000         42.0   \n",
       "2            97            33              1.0       0.950000          6.5   \n",
       "3            74            42              1.0       1.240000          6.5   \n",
       "4            42           244              1.0       1.100000          7.0   \n",
       "5            24           239              1.0       1.900000          8.0   \n",
       "6            75           243              1.0       3.443321         17.5   \n",
       "7            82            82              1.0       0.660000          5.0   \n",
       "8            74            42              1.0       1.720000          7.0   \n",
       "9            41            42              1.0       1.370000          7.5   \n",
       "\n",
       "   extra  mta_tax  tip_amount  tolls_amount  improvement_surcharge  \\\n",
       "0   0.50      0.5        0.00           0.0                    0.3   \n",
       "1   0.50      0.5        0.00           0.0                    0.3   \n",
       "2   0.50      0.5        2.34           0.0                    0.3   \n",
       "3   0.50      0.5        0.00           0.0                    0.3   \n",
       "4   0.50      0.5        0.00           0.0                    0.3   \n",
       "5   3.25      0.5        3.00           0.0                    0.3   \n",
       "6   0.50      0.5        0.00           0.0                    0.3   \n",
       "7   0.50      0.5        0.00           0.0                    0.3   \n",
       "8   0.50      0.5        2.08           0.0                    0.3   \n",
       "9   0.50      0.5        0.00           0.0                    0.3   \n",
       "\n",
       "   total_amount  payment_type  congestion_surcharge  \n",
       "0          7.30           2.0                  0.00  \n",
       "1         43.30           2.0                  0.00  \n",
       "2         10.14           1.0                  0.00  \n",
       "3          7.80           2.0                  0.00  \n",
       "4          8.30           2.0                  0.00  \n",
       "5         15.05           1.0                  2.75  \n",
       "6         18.80           2.0                  0.00  \n",
       "7          6.30           2.0                  0.00  \n",
       "8         10.38           1.0                  0.00  \n",
       "9          8.80           2.0                  0.00  "
      ]
     },
     "execution_count": 19,
     "metadata": {},
     "output_type": "execute_result"
    }
   ],
   "source": [
    "taxi.head(10)"
   ]
  },
  {
   "cell_type": "code",
   "execution_count": 20,
   "id": "6747ee63",
   "metadata": {
    "scrolled": true
   },
   "outputs": [
    {
     "name": "stdout",
     "output_type": "stream",
     "text": [
      "<class 'pandas.core.frame.DataFrame'>\n",
      "Int64Index: 50924 entries, 0 to 51172\n",
      "Data columns (total 17 columns):\n",
      " #   Column                 Non-Null Count  Dtype         \n",
      "---  ------                 --------------  -----         \n",
      " 0   lpep_pickup_datetime   50924 non-null  datetime64[ns]\n",
      " 1   lpep_dropoff_datetime  50924 non-null  datetime64[ns]\n",
      " 2   store_and_fwd_flag     50924 non-null  object        \n",
      " 3   RatecodeID             50924 non-null  float64       \n",
      " 4   PULocationID           50924 non-null  int64         \n",
      " 5   DOLocationID           50924 non-null  int64         \n",
      " 6   passenger_count        50924 non-null  float64       \n",
      " 7   trip_distance          50924 non-null  float64       \n",
      " 8   fare_amount            50924 non-null  float64       \n",
      " 9   extra                  50924 non-null  float64       \n",
      " 10  mta_tax                50924 non-null  float64       \n",
      " 11  tip_amount             50924 non-null  float64       \n",
      " 12  tolls_amount           50924 non-null  float64       \n",
      " 13  improvement_surcharge  50924 non-null  float64       \n",
      " 14  total_amount           50924 non-null  float64       \n",
      " 15  payment_type           50924 non-null  float64       \n",
      " 16  congestion_surcharge   50924 non-null  float64       \n",
      "dtypes: datetime64[ns](2), float64(12), int64(2), object(1)\n",
      "memory usage: 7.0+ MB\n"
     ]
    }
   ],
   "source": [
    "taxi.info()"
   ]
  },
  {
   "cell_type": "code",
   "execution_count": 21,
   "id": "f78c8c8d",
   "metadata": {},
   "outputs": [],
   "source": [
    "le = LabelEncoder()"
   ]
  },
  {
   "cell_type": "code",
   "execution_count": 22,
   "id": "8e83c310",
   "metadata": {
    "scrolled": true
   },
   "outputs": [
    {
     "data": {
      "text/html": [
       "<div>\n",
       "<style scoped>\n",
       "    .dataframe tbody tr th:only-of-type {\n",
       "        vertical-align: middle;\n",
       "    }\n",
       "\n",
       "    .dataframe tbody tr th {\n",
       "        vertical-align: top;\n",
       "    }\n",
       "\n",
       "    .dataframe thead th {\n",
       "        text-align: right;\n",
       "    }\n",
       "</style>\n",
       "<table border=\"1\" class=\"dataframe\">\n",
       "  <thead>\n",
       "    <tr style=\"text-align: right;\">\n",
       "      <th></th>\n",
       "      <th>lpep_pickup_datetime</th>\n",
       "      <th>lpep_dropoff_datetime</th>\n",
       "      <th>store_and_fwd_flag</th>\n",
       "      <th>RatecodeID</th>\n",
       "      <th>PULocationID</th>\n",
       "      <th>DOLocationID</th>\n",
       "      <th>passenger_count</th>\n",
       "      <th>trip_distance</th>\n",
       "      <th>fare_amount</th>\n",
       "      <th>extra</th>\n",
       "      <th>mta_tax</th>\n",
       "      <th>tip_amount</th>\n",
       "      <th>tolls_amount</th>\n",
       "      <th>improvement_surcharge</th>\n",
       "      <th>total_amount</th>\n",
       "      <th>payment_type</th>\n",
       "      <th>congestion_surcharge</th>\n",
       "    </tr>\n",
       "  </thead>\n",
       "  <tbody>\n",
       "    <tr>\n",
       "      <th>0</th>\n",
       "      <td>2021-07-01 00:30:52</td>\n",
       "      <td>2021-07-01 00:35:36</td>\n",
       "      <td>0</td>\n",
       "      <td>1.0</td>\n",
       "      <td>74</td>\n",
       "      <td>168</td>\n",
       "      <td>1.0</td>\n",
       "      <td>1.20</td>\n",
       "      <td>6.0</td>\n",
       "      <td>0.5</td>\n",
       "      <td>0.5</td>\n",
       "      <td>0.00</td>\n",
       "      <td>0.0</td>\n",
       "      <td>0.3</td>\n",
       "      <td>7.30</td>\n",
       "      <td>2.0</td>\n",
       "      <td>0.0</td>\n",
       "    </tr>\n",
       "    <tr>\n",
       "      <th>1</th>\n",
       "      <td>2021-07-01 00:25:36</td>\n",
       "      <td>2021-07-01 01:01:31</td>\n",
       "      <td>0</td>\n",
       "      <td>1.0</td>\n",
       "      <td>116</td>\n",
       "      <td>265</td>\n",
       "      <td>2.0</td>\n",
       "      <td>13.69</td>\n",
       "      <td>42.0</td>\n",
       "      <td>0.5</td>\n",
       "      <td>0.5</td>\n",
       "      <td>0.00</td>\n",
       "      <td>0.0</td>\n",
       "      <td>0.3</td>\n",
       "      <td>43.30</td>\n",
       "      <td>2.0</td>\n",
       "      <td>0.0</td>\n",
       "    </tr>\n",
       "    <tr>\n",
       "      <th>2</th>\n",
       "      <td>2021-07-01 00:05:58</td>\n",
       "      <td>2021-07-01 00:12:00</td>\n",
       "      <td>0</td>\n",
       "      <td>1.0</td>\n",
       "      <td>97</td>\n",
       "      <td>33</td>\n",
       "      <td>1.0</td>\n",
       "      <td>0.95</td>\n",
       "      <td>6.5</td>\n",
       "      <td>0.5</td>\n",
       "      <td>0.5</td>\n",
       "      <td>2.34</td>\n",
       "      <td>0.0</td>\n",
       "      <td>0.3</td>\n",
       "      <td>10.14</td>\n",
       "      <td>1.0</td>\n",
       "      <td>0.0</td>\n",
       "    </tr>\n",
       "    <tr>\n",
       "      <th>3</th>\n",
       "      <td>2021-07-01 00:41:40</td>\n",
       "      <td>2021-07-01 00:47:23</td>\n",
       "      <td>0</td>\n",
       "      <td>1.0</td>\n",
       "      <td>74</td>\n",
       "      <td>42</td>\n",
       "      <td>1.0</td>\n",
       "      <td>1.24</td>\n",
       "      <td>6.5</td>\n",
       "      <td>0.5</td>\n",
       "      <td>0.5</td>\n",
       "      <td>0.00</td>\n",
       "      <td>0.0</td>\n",
       "      <td>0.3</td>\n",
       "      <td>7.80</td>\n",
       "      <td>2.0</td>\n",
       "      <td>0.0</td>\n",
       "    </tr>\n",
       "    <tr>\n",
       "      <th>4</th>\n",
       "      <td>2021-07-01 00:51:32</td>\n",
       "      <td>2021-07-01 00:58:46</td>\n",
       "      <td>0</td>\n",
       "      <td>1.0</td>\n",
       "      <td>42</td>\n",
       "      <td>244</td>\n",
       "      <td>1.0</td>\n",
       "      <td>1.10</td>\n",
       "      <td>7.0</td>\n",
       "      <td>0.5</td>\n",
       "      <td>0.5</td>\n",
       "      <td>0.00</td>\n",
       "      <td>0.0</td>\n",
       "      <td>0.3</td>\n",
       "      <td>8.30</td>\n",
       "      <td>2.0</td>\n",
       "      <td>0.0</td>\n",
       "    </tr>\n",
       "  </tbody>\n",
       "</table>\n",
       "</div>"
      ],
      "text/plain": [
       "  lpep_pickup_datetime lpep_dropoff_datetime  store_and_fwd_flag  RatecodeID  \\\n",
       "0  2021-07-01 00:30:52   2021-07-01 00:35:36                   0         1.0   \n",
       "1  2021-07-01 00:25:36   2021-07-01 01:01:31                   0         1.0   \n",
       "2  2021-07-01 00:05:58   2021-07-01 00:12:00                   0         1.0   \n",
       "3  2021-07-01 00:41:40   2021-07-01 00:47:23                   0         1.0   \n",
       "4  2021-07-01 00:51:32   2021-07-01 00:58:46                   0         1.0   \n",
       "\n",
       "   PULocationID  DOLocationID  passenger_count  trip_distance  fare_amount  \\\n",
       "0            74           168              1.0           1.20          6.0   \n",
       "1           116           265              2.0          13.69         42.0   \n",
       "2            97            33              1.0           0.95          6.5   \n",
       "3            74            42              1.0           1.24          6.5   \n",
       "4            42           244              1.0           1.10          7.0   \n",
       "\n",
       "   extra  mta_tax  tip_amount  tolls_amount  improvement_surcharge  \\\n",
       "0    0.5      0.5        0.00           0.0                    0.3   \n",
       "1    0.5      0.5        0.00           0.0                    0.3   \n",
       "2    0.5      0.5        2.34           0.0                    0.3   \n",
       "3    0.5      0.5        0.00           0.0                    0.3   \n",
       "4    0.5      0.5        0.00           0.0                    0.3   \n",
       "\n",
       "   total_amount  payment_type  congestion_surcharge  \n",
       "0          7.30           2.0                   0.0  \n",
       "1         43.30           2.0                   0.0  \n",
       "2         10.14           1.0                   0.0  \n",
       "3          7.80           2.0                   0.0  \n",
       "4          8.30           2.0                   0.0  "
      ]
     },
     "execution_count": 22,
     "metadata": {},
     "output_type": "execute_result"
    }
   ],
   "source": [
    "taxi['store_and_fwd_flag'] = le.fit_transform(taxi['store_and_fwd_flag'])\n",
    "taxi.head()"
   ]
  },
  {
   "cell_type": "code",
   "execution_count": 23,
   "id": "960af4d9",
   "metadata": {},
   "outputs": [
    {
     "data": {
      "text/plain": [
       "count    50924.000000\n",
       "mean        15.108210\n",
       "std         14.542593\n",
       "min          0.000000\n",
       "25%          7.000000\n",
       "50%         10.500000\n",
       "75%         17.000000\n",
       "max        480.000000\n",
       "Name: fare_amount, dtype: float64"
      ]
     },
     "execution_count": 23,
     "metadata": {},
     "output_type": "execute_result"
    }
   ],
   "source": [
    "taxi['fare_amount'].describe()"
   ]
  },
  {
   "cell_type": "code",
   "execution_count": 24,
   "id": "51be7b04",
   "metadata": {},
   "outputs": [
    {
     "data": {
      "image/png": "[encoded data removed]",
      "text/plain": [
       "<Figure size 432x288 with 1 Axes>"
      ]
     },
     "metadata": {
      "needs_background": "light"
     },
     "output_type": "display_data"
    }
   ],
   "source": [
    "x = taxi['fare_amount']\n",
    "y = taxi['trip_distance']\n",
    "\n",
    "plt.scatter(x, y)\n",
    "plt.xlim=([0,200])\n",
    "plt.ylim=([0,75])\n",
    "plt.show()"
   ]
  },
  {
   "cell_type": "code",
   "execution_count": 25,
   "id": "3d8ffff4",
   "metadata": {
    "scrolled": true
   },
   "outputs": [
    {
     "data": {
      "image/png": "[encoded data removed]",
      "text/plain": [
       "<Figure size 1296x720 with 2 Axes>"
      ]
     },
     "metadata": {
      "needs_background": "light"
     },
     "output_type": "display_data"
    }
   ],
   "source": [
    "plt.figure(figsize=(18, 10))\n",
    "sns.heatmap(taxi.corr(), annot=True);"
   ]
  },
  {
   "cell_type": "code",
   "execution_count": 26,
   "id": "90d68c43",
   "metadata": {},
   "outputs": [],
   "source": [
    "taxi['day_of_the_week'] = taxi['lpep_pickup_datetime'].dt.day_name()"
   ]
  },
  {
   "cell_type": "code",
   "execution_count": 27,
   "id": "8d2d0a5c",
   "metadata": {
    "scrolled": true
   },
   "outputs": [
    {
     "data": {
      "text/plain": [
       "<AxesSubplot:xlabel='count', ylabel='day_of_the_week'>"
      ]
     },
     "execution_count": 27,
     "metadata": {},
     "output_type": "execute_result"
    },
    {
     "data": {
      "image/png": "[encoded data removed]",
      "text/plain": [
       "<Figure size 1296x648 with 1 Axes>"
      ]
     },
     "metadata": {
      "needs_background": "light"
     },
     "output_type": "display_data"
    }
   ],
   "source": [
    "plt.figure(figsize=(18,9))\n",
    "sns.countplot(y='day_of_the_week', data=taxi, order=('Sunday','Monday','Tuesday','Wednesday','Thursday','Friday','Saturday'))"
   ]
  },
  {
   "cell_type": "code",
   "execution_count": 28,
   "id": "6a784f0f",
   "metadata": {},
   "outputs": [
    {
     "data": {
      "text/plain": [
       "Text(0.5, 0, 'Hour of the Day')"
      ]
     },
     "execution_count": 28,
     "metadata": {},
     "output_type": "execute_result"
    },
    {
     "data": {
      "image/png": "[encoded data removed]",
      "text/plain": [
       "<Figure size 1152x648 with 1 Axes>"
      ]
     },
     "metadata": {
      "needs_background": "light"
     },
     "output_type": "display_data"
    }
   ],
   "source": [
    "plt.figure(figsize=(16,9))\n",
    "sns.countplot(x=taxi['lpep_pickup_datetime'].dt.hour, data=taxi)\n",
    "plt.xlabel('Hour of the Day')"
   ]
  },
  {
   "cell_type": "code",
   "execution_count": 29,
   "id": "46840131",
   "metadata": {},
   "outputs": [],
   "source": [
    "for i in taxi.columns[[0, 1]]:\n",
    "    taxi[i] = pd.to_numeric(taxi[i])"
   ]
  },
  {
   "cell_type": "code",
   "execution_count": 30,
   "id": "c9815526",
   "metadata": {},
   "outputs": [],
   "source": [
    "X = taxi.drop('total_amount', axis=1)\n",
    "y = taxi.total_amount"
   ]
  },
  {
   "cell_type": "code",
   "execution_count": 31,
   "id": "6e415c54",
   "metadata": {},
   "outputs": [],
   "source": [
    "X = pd.get_dummies(data=X)\n",
    "y = pd.get_dummies(data=y)"
   ]
  },
  {
   "cell_type": "code",
   "execution_count": 32,
   "id": "aa6792d2",
   "metadata": {},
   "outputs": [],
   "source": [
    "X_train, X_test, y_train, y_test = train_test_split(X, y, train_size=0.75, random_state=123)"
   ]
  },
  {
   "cell_type": "code",
   "execution_count": 33,
   "id": "f4ad6c71",
   "metadata": {},
   "outputs": [
    {
     "data": {
      "text/plain": [
       "lpep_pickup_datetime           int64\n",
       "lpep_dropoff_datetime          int64\n",
       "store_and_fwd_flag             int64\n",
       "RatecodeID                   float64\n",
       "PULocationID                   int64\n",
       "DOLocationID                   int64\n",
       "passenger_count              float64\n",
       "trip_distance                float64\n",
       "fare_amount                  float64\n",
       "extra                        float64\n",
       "mta_tax                      float64\n",
       "tip_amount                   float64\n",
       "tolls_amount                 float64\n",
       "improvement_surcharge        float64\n",
       "payment_type                 float64\n",
       "congestion_surcharge         float64\n",
       "day_of_the_week_Friday         uint8\n",
       "day_of_the_week_Monday         uint8\n",
       "day_of_the_week_Saturday       uint8\n",
       "day_of_the_week_Sunday         uint8\n",
       "day_of_the_week_Thursday       uint8\n",
       "day_of_the_week_Tuesday        uint8\n",
       "day_of_the_week_Wednesday      uint8\n",
       "dtype: object"
      ]
     },
     "execution_count": 33,
     "metadata": {},
     "output_type": "execute_result"
    }
   ],
   "source": [
    "X_train.dtypes"
   ]
  },
  {
   "cell_type": "code",
   "execution_count": 34,
   "id": "c88b6b52",
   "metadata": {},
   "outputs": [],
   "source": [
    "from sklearn.preprocessing import StandardScaler\n",
    "\n",
    "scaler = StandardScaler()"
   ]
  },
  {
   "cell_type": "code",
   "execution_count": 35,
   "id": "1fa80d78",
   "metadata": {},
   "outputs": [
    {
     "data": {
      "text/plain": [
       "array([[-0.2336891 , -0.23375881, -0.06151905, ..., -0.46337113,\n",
       "         2.5999328 , -0.40298971],\n",
       "       [ 0.12522079,  0.1249714 , -0.06151905, ..., -0.46337113,\n",
       "        -0.38462533,  2.48145294],\n",
       "       [ 0.3373341 ,  0.33702139, -0.06151905, ..., -0.46337113,\n",
       "        -0.38462533, -0.40298971],\n",
       "       ...,\n",
       "       [-0.10100465, -0.1011417 , -0.06151905, ..., -0.46337113,\n",
       "        -0.38462533, -0.40298971],\n",
       "       [ 0.03722901,  0.03717713, -0.06151905, ..., -0.46337113,\n",
       "        -0.38462533, -0.40298971],\n",
       "       [-0.13466875, -0.134661  , -0.06151905, ..., -0.46337113,\n",
       "        -0.38462533, -0.40298971]])"
      ]
     },
     "execution_count": 35,
     "metadata": {},
     "output_type": "execute_result"
    }
   ],
   "source": [
    "scaler.fit_transform(X_train)"
   ]
  },
  {
   "cell_type": "code",
   "execution_count": 36,
   "id": "d04f56a8",
   "metadata": {},
   "outputs": [],
   "source": [
    "from sklearn.linear_model import LinearRegression\n",
    "from sklearn.tree import DecisionTreeRegressor\n",
    "from sklearn.ensemble import RandomForestRegressor\n",
    "from sklearn.neighbors import KNeighborsRegressor\n",
    "from sklearn import metrics"
   ]
  },
  {
   "cell_type": "code",
   "execution_count": 37,
   "id": "56b30c3e",
   "metadata": {},
   "outputs": [],
   "source": [
    "lr = LinearRegression()\n",
    "dt = DecisionTreeRegressor()\n",
    "rfr = RandomForestRegressor()\n",
    "knn = KNeighborsRegressor()"
   ]
  },
  {
   "cell_type": "code",
   "execution_count": 38,
   "id": "004987b3",
   "metadata": {},
   "outputs": [
    {
     "name": "stdout",
     "output_type": "stream",
     "text": [
      "Root Mean Squared Error: 0.020751078813825437\n",
      "R-Squared: 0.0006163910841680896\n"
     ]
    }
   ],
   "source": [
    "lr.fit(X_train, y_train)\n",
    "lin_pred = lr.predict(X_test)\n",
    "\n",
    "print('Root Mean Squared Error:', np.sqrt(metrics.mean_squared_error(lin_pred, y_test)))\n",
    "print('R-Squared:', metrics.r2_score(y_test, lin_pred))"
   ]
  },
  {
   "cell_type": "code",
   "execution_count": 39,
   "id": "ac631d70",
   "metadata": {},
   "outputs": [
    {
     "name": "stdout",
     "output_type": "stream",
     "text": [
      "Root Mean Squared Error: 0.010799268919693718\n",
      "R-Squared: 0.4646272598273476\n"
     ]
    }
   ],
   "source": [
    "dt.fit(X_train, y_train)\n",
    "dt_pred = dt.predict(X_test)\n",
    "\n",
    "print('Root Mean Squared Error:', np.sqrt(metrics.mean_squared_error(dt_pred, y_test)))\n",
    "print('R-Squared:', metrics.r2_score(y_test, dt_pred))"
   ]
  },
  {
   "cell_type": "code",
   "execution_count": 40,
   "id": "80548476",
   "metadata": {},
   "outputs": [
    {
     "name": "stdout",
     "output_type": "stream",
     "text": [
      "Root Mean Squared Error: 0.02267564115809388\n",
      "R-Squared: 0.004892407069962287\n"
     ]
    }
   ],
   "source": [
    "knn.fit(X_train, y_train)\n",
    "knn_pred = knn.predict(X_test)\n",
    "\n",
    "print('Root Mean Squared Error:', np.sqrt(metrics.mean_squared_error(knn_pred, y_test)))\n",
    "print('R-Squared:', metrics.r2_score(y_test, knn_pred))"
   ]
  },
  {
   "cell_type": "markdown",
   "id": "34544dfd",
   "metadata": {},
   "source": [
    "The most accurate model is the Decision Tree Regressor with the RMSE value of 0.01 and a R2 value of 0.46"
   ]
  },
  {
   "cell_type": "code",
   "execution_count": null,
   "id": "4d7c0d5f",
   "metadata": {},
   "outputs": [],
   "source": []
  }
 ],
 "metadata": {
  "kernelspec": {
   "display_name": "Python 3 (ipykernel)",
   "language": "python",
   "name": "python3"
  },
  "language_info": {
   "codemirror_mode": {
    "name": "ipython",
    "version": 3
   },
   "file_extension": ".py",
   "mimetype": "text/x-python",
   "name": "python",
   "nbconvert_exporter": "python",
   "pygments_lexer": "ipython3",
   "version": "3.9.12"
  }
 },
 "nbformat": 4,
 "nbformat_minor": 5
}
